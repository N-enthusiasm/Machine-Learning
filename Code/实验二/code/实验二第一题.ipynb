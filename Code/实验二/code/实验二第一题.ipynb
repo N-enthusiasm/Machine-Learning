{
 "cells": [
  {
   "cell_type": "code",
   "execution_count": 10,
   "metadata": {},
   "outputs": [
    {
     "name": "stdout",
     "output_type": "stream",
     "text": [
      "准确度： 0.9\n",
      "准确度： 0.9\n"
     ]
    },
    {
     "data": {
      "image/png": "[encoded data removed]",
      "text/plain": [
       "<Figure size 432x288 with 1 Axes>"
      ]
     },
     "metadata": {
      "needs_background": "light"
     },
     "output_type": "display_data"
    }
   ],
   "source": [
    "import numpy as np\n",
    "import pandas as pd\n",
    "import matplotlib.pyplot as plt\n",
    "from sklearn import linear_model\n",
    "from sklearn.metrics import accuracy_score\n",
    "from sklearn.datasets import load_iris\n",
    "\n",
    "\n",
    "#加载数据\n",
    "def loaddata():\n",
    "    data=np.loadtxt('data1.txt',delimiter=',')\n",
    "    n=data.shape[1]-1 #特征数\n",
    "    X=data[:,0:n]\n",
    "    y=data[:,-1].reshape(-1,1) #将数据转换成一列\n",
    "    return X,y\n",
    "\n",
    "\n",
    "#定义sigmoid函数\n",
    "def sigmoid(z):\n",
    "    return 1.0/(1+np.exp(-z))\n",
    "\n",
    "#实现假设函数\n",
    "def hypothesis(X,theta):\n",
    "    z=np.dot(X,theta)\n",
    "    return sigmoid(z)\n",
    "\n",
    "#定义损失函数\n",
    "def computeCost(X,y,theta):\n",
    "    m=X.shape[0]\n",
    "    z=-1*y*np.log(hypothesis(X,theta))-(1-y)*np.log(1-hypothesis(X,theta))\n",
    "    return np.sum(z)/m\n",
    "\n",
    "#梯度下降\n",
    "def gradientDescent(X,y,theta,iterations,alpha):\n",
    "    m=X.shape[0]  #获取数据条数\n",
    "    X=np.hstack((np.ones((m,1)),X)) #在X最前面插入全1的列\n",
    "    \n",
    "    for i in range(iterations):\n",
    "        for j in range(len(theta)):\n",
    "            theta[j]=theta[j]-(alpha/m)*np.sum((hypothesis(X,theta)-y)*X[:,j].reshape(-1,1))\n",
    "       # if(i%50000==0):\n",
    "        #    print('第',i,'次迭代，当前损失为：',computeCost(X,y,theta),'theta=',theta)\n",
    "            \n",
    "#定义预测函数\n",
    "def predict(X):\n",
    "    #在X最前面插入全1的列\n",
    "    c=np.ones(X.shape[0]).transpose()\n",
    "    np.hstack\n",
    "    X=np.insert(X,0,values=c,axis=1)\n",
    "    \n",
    "    h=hypothesis(X,theta)\n",
    "    #根据概率值决定分类\n",
    "    h[h>=0.5]=1\n",
    "    h[h<0.5]=0\n",
    "    \n",
    "    return h\n",
    "\n",
    "#画出散点图\n",
    "def plot(X,y):\n",
    "    pos=np.where(y==1)\n",
    "    neg=np.where(y==0)\n",
    "    plt.scatter(X[pos[0],0],X[pos[0],1],marker='.',c='r')\n",
    "    plt.scatter(X[neg[0],0],X[neg[0],1],marker='.',c='b')\n",
    "    plt.xlabel('Exam 1 score')\n",
    "    plt.ylabel('Exam 2 score')\n",
    "  #  plt.show()\n",
    "    \n",
    "#画出决策边界\n",
    "def plotDescisionBoundary(X,y,theta):\n",
    "    x1=np.arange(min(X[:,0]),max(X[:,0]),0.1)\n",
    "    x2=-(theta[1]*x1+theta[0])/theta[2] #分类决策面 theta0+theta1*x1+theta2*x2 = 0\n",
    "    plt.plot(x1,x2)\n",
    "  #  plt.show()\n",
    "    \n",
    "\n",
    "X,y=loaddata() #获取数据\n",
    "\n",
    "iterations=250000 #迭代次数\n",
    "alpha=0.008\n",
    "n=X.shape[1]\n",
    "theta=np.zeros(n+1).reshape(n+1,1)\n",
    "\n",
    "gradientDescent(X,y,theta,iterations,alpha)\n",
    "h=predict(X)\n",
    "print('准确度：',np.mean(h==y))\n",
    "print('准确度：',accuracy_score(y,h))\n",
    "plotDescisionBoundary(X,y,theta)\n",
    "plot(X,y)\n",
    "plt.show()"
   ]
  },
  {
   "cell_type": "code",
   "execution_count": null,
   "metadata": {},
   "outputs": [],
   "source": []
  }
 ],
 "metadata": {
  "kernelspec": {
   "display_name": "Python 3",
   "language": "python",
   "name": "python3"
  },
  "language_info": {
   "codemirror_mode": {
    "name": "ipython",
    "version": 3
   },
   "file_extension": ".py",
   "mimetype": "text/x-python",
   "name": "python",
   "nbconvert_exporter": "python",
   "pygments_lexer": "ipython3",
   "version": "3.7.4"
  }
 },
 "nbformat": 4,
 "nbformat_minor": 2
}
